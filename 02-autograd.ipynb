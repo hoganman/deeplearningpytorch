{
 "cells": [
  {
   "cell_type": "markdown",
   "source": [
    "# Autograd\n",
    "\n",
    "PyTorch has built-in gradient descent mechanism called \"autograd\". This comes in handy as we do not need to input the jacobian in function minimizers.\n",
    "\n",
    "Consider the following toy example of temperature between two separate detectors/instruments."
   ],
   "metadata": {
    "collapsed": false
   }
  },
  {
   "cell_type": "code",
   "execution_count": 1,
   "outputs": [],
   "source": [
    "%matplotlib inline"
   ],
   "metadata": {
    "collapsed": false
   }
  },
  {
   "cell_type": "code",
   "execution_count": 8,
   "outputs": [],
   "source": [
    "import matplotlib.pyplot as plt\n",
    "import torch\n",
    "\n",
    "import torch.nn.functional"
   ],
   "metadata": {
    "collapsed": false
   }
  },
  {
   "cell_type": "code",
   "execution_count": 3,
   "outputs": [],
   "source": [
    "# Celsius\n",
    "tem_c = [0.5,  14.0, 15.0, 28.0, 11.0,  8.0,  3.0, -4.0,  6.0, 13.0, 21.0]\n",
    "tem_c_t = torch.tensor(tem_c)\n",
    "\n",
    "# Unknown\n",
    "tem_u = [35.7, 55.9, 58.2, 81.9, 56.3, 48.9, 33.9, 21.8, 48.4, 60.4, 68.4]\n",
    "tem_u_t = torch.tensor(tem_u)"
   ],
   "metadata": {
    "collapsed": false
   }
  },
  {
   "cell_type": "code",
   "execution_count": 7,
   "outputs": [
    {
     "data": {
      "text/plain": "<Figure size 640x480 with 1 Axes>",
      "image/png": "[encoded data removed]"
     },
     "metadata": {},
     "output_type": "display_data"
    }
   ],
   "source": [
    "fig_tem, ax_tem = plt.subplots()\n",
    "\n",
    "ax_tem.scatter(\n",
    "    tem_c,\n",
    "    tem_u\n",
    ")\n",
    "ax_tem.grid(True)\n",
    "ax_tem.set_xlabel(\"Temperature (C)\")\n",
    "ax_tem.set_ylabel(\"Temperature (Unknown)\")\n",
    "plt.show(fig_tem)"
   ],
   "metadata": {
    "collapsed": false
   }
  },
  {
   "cell_type": "markdown",
   "source": [
    "The data relationship certainly looks linear. Can we calculate function $f = f(t_C)$ where $f = w t_C + b$ and $f$ predicts $t_U$. To do this, let's use the `torch.nn.functional` module to define theobjective/loss function."
   ],
   "metadata": {
    "collapsed": false
   }
  },
  {
   "cell_type": "code",
   "execution_count": 9,
   "outputs": [],
   "source": [
    "mse_loss = torch.nn.functional.mse_loss"
   ],
   "metadata": {
    "collapsed": false
   }
  },
  {
   "cell_type": "markdown",
   "source": [
    "To calculate the parameters `(w, b)`, I will instantiate a tensor with gradient tracking using `requires_grad=True` in the constructor."
   ],
   "metadata": {
    "collapsed": false
   }
  },
  {
   "cell_type": "code",
   "execution_count": 35,
   "outputs": [],
   "source": [
    "params: torch.Tensor = torch.tensor([1.0, 0.01], requires_grad=True)"
   ],
   "metadata": {
    "collapsed": false
   }
  },
  {
   "cell_type": "markdown",
   "source": [
    "Now the model function takes a tensor and two scaler parameters.\n",
    "\n",
    "To utilize \"autograd\", we need to call the `torch.Tensor.backward` method on the loss function in the training loop.\n",
    "\n",
    "__WARNING__: Calling backward will lead derivatives to accumulate at leaf nodes. We need to zero the gradient explicitly after using it for parameter updates.\n",
    "\n",
    "To address this issue in PyTorch, we zero the gradient during the training loop using `grad.zero_()`.\n",
    "There is also a curious context\n",
    "\n",
    "```python\n",
    "with torch.no_grad():\n",
    "    params -= learning_rate * params.grad\n",
    "```\n",
    "\n",
    "Taken from the book\n",
    "\n",
    "```\n",
    "This means within the with block, the PyTorch autograd mechanism should _look away_ that is, not add edges to the forward graph. In fact, when we are executing this bit of code, the forward graph that PyTorch records is consumed when we call backward, leaving us with the params leaf node.\n",
    "```\n",
    "\n"
   ],
   "metadata": {
    "collapsed": false
   }
  },
  {
   "cell_type": "code",
   "execution_count": 41,
   "outputs": [
    {
     "name": "stdout",
     "output_type": "stream",
     "text": [
      "Epoch 1, Loss 1764.710815\n",
      "Epoch 2, Loss 5805146.500000\n",
      "Epoch 3, Loss 19416940544.000000\n",
      "Epoch 4, Loss 64945718820864.000000\n",
      "Epoch 100, Loss nan\n",
      "Epoch 200, Loss nan\n"
     ]
    },
    {
     "data": {
      "text/plain": "tensor([nan, nan], requires_grad=True)"
     },
     "execution_count": 41,
     "metadata": {},
     "output_type": "execute_result"
    }
   ],
   "source": [
    "def model(x_t, weight, bias):\n",
    "    \"\"\"Linear model using scaler weight and bias\n",
    "\n",
    "    Parameters\n",
    "    ----------\n",
    "    x_t : torch.Tensor\n",
    "        Input tensor\n",
    "    weight : float\n",
    "        Weight floating point number\n",
    "    bias : float\n",
    "        Bias floating point number\n",
    "\n",
    "    Returns\n",
    "    -------\n",
    "        torch.Tensor\n",
    "    \"\"\"\n",
    "    return weight * x_t + bias\n",
    "\n",
    "\n",
    "def training_loop(\n",
    "    n_epochs,\n",
    "    learning_rate,\n",
    "    params,\n",
    "    t_u,\n",
    "    t_c\n",
    "):\n",
    "    \"\"\"Training loop for toy temperature data\n",
    "\n",
    "    Parameters\n",
    "    ----------\n",
    "    n_epochs : int\n",
    "        Number of iterations\n",
    "    learning_rate : float\n",
    "        How steep of steps\n",
    "    params : torch.Tensor\n",
    "        Parameter tensor\n",
    "    t_u : torch.Tensor\n",
    "        Unknown temperature tensor\n",
    "    t_c : torch.Tensor\n",
    "        Target known temperature tensor\n",
    "\n",
    "    Returns\n",
    "    -------\n",
    "    torch.Tensor\n",
    "        Parameter tensor\n",
    "    \"\"\"\n",
    "    for epoch in range(1, n_epochs + 1):\n",
    "        if params.grad is not None:\n",
    "            params.grad.zero_()\n",
    "        t_p = model(t_u, *params)\n",
    "        loss = mse_loss(t_p, t_c)\n",
    "        loss.backward()\n",
    "        with torch.no_grad():\n",
    "            params -= learning_rate * params.grad\n",
    "            if epoch % 100 == 0 or epoch < 5:\n",
    "                print('Epoch %d, Loss %f' % (epoch, float(loss)))\n",
    "    return params\n",
    "\n",
    "\n",
    "training_loop(\n",
    "    200,\n",
    "    1e-2,\n",
    "    torch.tensor([1.0, 0.01], requires_grad=True),\n",
    "    tem_u_t,\n",
    "    tem_c_t\n",
    ")"
   ],
   "metadata": {
    "collapsed": false
   }
  },
  {
   "cell_type": "markdown",
   "source": [
    "Looks like the loss diverged! This is a typical problem in minimization problems. This is due to that the input data are not normalized relative and the learning rate is too high.\n",
    "\n",
    "Let's try to decrease the rate."
   ],
   "metadata": {
    "collapsed": false
   }
  },
  {
   "cell_type": "code",
   "execution_count": 43,
   "outputs": [
    {
     "name": "stdout",
     "output_type": "stream",
     "text": [
      "Epoch 1, Loss 1764.710815\n",
      "Epoch 2, Loss 1566.496948\n",
      "Epoch 3, Loss 1390.920410\n",
      "Epoch 4, Loss 1235.395630\n",
      "Epoch 100, Loss 29.145098\n",
      "Epoch 200, Loss 29.125328\n"
     ]
    },
    {
     "data": {
      "text/plain": "tensor([ 0.2321, -0.0096], requires_grad=True)"
     },
     "execution_count": 43,
     "metadata": {},
     "output_type": "execute_result"
    }
   ],
   "source": [
    "training_loop(\n",
    "    200,\n",
    "    1e-5,\n",
    "    torch.tensor([1.0, 0.01], requires_grad=True),\n",
    "    tem_u_t,\n",
    "    tem_c_t\n",
    ")"
   ],
   "metadata": {
    "collapsed": false
   }
  },
  {
   "cell_type": "markdown",
   "source": [
    "Great, that seems to have fixed the divergence."
   ],
   "metadata": {
    "collapsed": false
   }
  },
  {
   "cell_type": "markdown",
   "source": [],
   "metadata": {
    "collapsed": false
   }
  },
  {
   "cell_type": "code",
   "execution_count": null,
   "outputs": [],
   "source": [],
   "metadata": {
    "collapsed": false
   }
  }
 ],
 "metadata": {
  "kernelspec": {
   "display_name": "Python 3",
   "language": "python",
   "name": "python3"
  },
  "language_info": {
   "codemirror_mode": {
    "name": "ipython",
    "version": 2
   },
   "file_extension": ".py",
   "mimetype": "text/x-python",
   "name": "python",
   "nbconvert_exporter": "python",
   "pygments_lexer": "ipython2",
   "version": "2.7.6"
  }
 },
 "nbformat": 4,
 "nbformat_minor": 0
}
