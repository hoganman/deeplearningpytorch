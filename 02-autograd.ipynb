{
 "cells": [
  {
   "cell_type": "markdown",
   "source": [
    "# Autograd\n",
    "\n",
    "PyTorch has built-in gradient descent mechanism called \"autograd\". This comes in handy as we do not need to input the jacobian in function minimizers.\n",
    "\n",
    "Consider the following toy example of temperature between two separate detectors/instruments."
   ],
   "metadata": {
    "collapsed": false
   }
  },
  {
   "cell_type": "code",
   "execution_count": 1,
   "outputs": [],
   "source": [
    "%matplotlib inline"
   ],
   "metadata": {
    "collapsed": false
   }
  },
  {
   "cell_type": "code",
   "execution_count": 8,
   "outputs": [],
   "source": [
    "import matplotlib.pyplot as plt\n",
    "import torch\n",
    "\n",
    "import torch.nn.functional\n",
    "import torch.optim"
   ],
   "metadata": {
    "collapsed": false
   }
  },
  {
   "cell_type": "code",
   "execution_count": 3,
   "outputs": [],
   "source": [
    "# Celsius\n",
    "tem_c = [0.5,  14.0, 15.0, 28.0, 11.0,  8.0,  3.0, -4.0,  6.0, 13.0, 21.0]\n",
    "tem_c_t = torch.tensor(tem_c)\n",
    "\n",
    "# Unknown\n",
    "tem_u = [35.7, 55.9, 58.2, 81.9, 56.3, 48.9, 33.9, 21.8, 48.4, 60.4, 68.4]\n",
    "tem_u_t = torch.tensor(tem_u)"
   ],
   "metadata": {
    "collapsed": false
   }
  },
  {
   "cell_type": "code",
   "execution_count": 61,
   "outputs": [
    {
     "data": {
      "text/plain": "<Figure size 640x480 with 1 Axes>",
      "image/png": "[encoded data removed]"
     },
     "metadata": {},
     "output_type": "display_data"
    }
   ],
   "source": [
    "fig_tem, ax_tem = plt.subplots()\n",
    "\n",
    "ax_tem.scatter(\n",
    "    tem_c,\n",
    "    tem_u\n",
    ")\n",
    "ax_tem.grid(True)\n",
    "ax_tem.set_xlabel(\"Temperature (C)\")\n",
    "ax_tem.set_ylabel(\"Temperature (Unknown)\")\n",
    "plt.show(fig_tem)"
   ],
   "metadata": {
    "collapsed": false
   }
  },
  {
   "cell_type": "markdown",
   "source": [
    "The data relationship certainly looks linear. Can we calculate function $f = f(t_C)$ where $f = w t_C + b$ and $f$ predicts $t_U$. To do this, let's use the `torch.nn.functional` module to define theobjective/loss function."
   ],
   "metadata": {
    "collapsed": false
   }
  },
  {
   "cell_type": "code",
   "execution_count": 9,
   "outputs": [],
   "source": [
    "mse_loss = torch.nn.functional.mse_loss"
   ],
   "metadata": {
    "collapsed": false
   }
  },
  {
   "cell_type": "markdown",
   "source": [
    "To calculate the parameters `(w, b)`, I will instantiate a tensor with gradient tracking using `requires_grad=True` in the constructor."
   ],
   "metadata": {
    "collapsed": false
   }
  },
  {
   "cell_type": "code",
   "execution_count": 35,
   "outputs": [],
   "source": [
    "params: torch.Tensor = torch.tensor([1.0, 0.01], requires_grad=True)"
   ],
   "metadata": {
    "collapsed": false
   }
  },
  {
   "cell_type": "markdown",
   "source": [
    "Now the model function takes a tensor and two scaler parameters.\n",
    "\n",
    "To utilize \"autograd\", we need to call the `torch.Tensor.backward` method on the loss function in the training loop.\n",
    "\n",
    "__WARNING__: Calling backward will lead derivatives to accumulate at leaf nodes. We need to zero the gradient explicitly after using it for parameter updates.\n",
    "\n",
    "To address this issue in PyTorch, we zero the gradient during the training loop using `grad.zero_()`.\n",
    "There is also a curious context\n",
    "\n",
    "```python\n",
    "with torch.no_grad():\n",
    "    params -= learning_rate * params.grad\n",
    "```\n",
    "\n",
    "Taken from the book\n",
    "\n",
    "\"This means within the with block, the PyTorch autograd mechanism should _look away_ that is, not add edges to the forward graph. In fact, when we are executing this bit of code, the forward graph that PyTorch records is consumed when we call backward, leaving us with the params leaf node.\"\n",
    "\n"
   ],
   "metadata": {
    "collapsed": false
   }
  },
  {
   "cell_type": "code",
   "execution_count": 41,
   "outputs": [
    {
     "name": "stdout",
     "output_type": "stream",
     "text": [
      "Epoch 1, Loss 1764.710815\n",
      "Epoch 2, Loss 5805146.500000\n",
      "Epoch 3, Loss 19416940544.000000\n",
      "Epoch 4, Loss 64945718820864.000000\n",
      "Epoch 100, Loss nan\n",
      "Epoch 200, Loss nan\n"
     ]
    },
    {
     "data": {
      "text/plain": "tensor([nan, nan], requires_grad=True)"
     },
     "execution_count": 41,
     "metadata": {},
     "output_type": "execute_result"
    }
   ],
   "source": [
    "def model(x_t, weight, bias):\n",
    "    \"\"\"Linear model using scaler weight and bias\n",
    "\n",
    "    Parameters\n",
    "    ----------\n",
    "    x_t : torch.Tensor\n",
    "        Input tensor\n",
    "    weight : float\n",
    "        Weight floating point number\n",
    "    bias : float\n",
    "        Bias floating point number\n",
    "\n",
    "    Returns\n",
    "    -------\n",
    "        torch.Tensor\n",
    "    \"\"\"\n",
    "    return weight * x_t + bias\n",
    "\n",
    "\n",
    "def training_loop(\n",
    "    n_epochs,\n",
    "    learning_rate,\n",
    "    params,\n",
    "    t_u,\n",
    "    t_c\n",
    "):\n",
    "    \"\"\"Training loop for toy temperature data\n",
    "\n",
    "    Parameters\n",
    "    ----------\n",
    "    n_epochs : int\n",
    "        Number of iterations\n",
    "    learning_rate : float\n",
    "        How steep of steps\n",
    "    params : torch.Tensor\n",
    "        Parameter tensor\n",
    "    t_u : torch.Tensor\n",
    "        Unknown temperature tensor\n",
    "    t_c : torch.Tensor\n",
    "        Target known temperature tensor\n",
    "\n",
    "    Returns\n",
    "    -------\n",
    "    torch.Tensor\n",
    "        Parameter tensor\n",
    "    \"\"\"\n",
    "    for epoch in range(1, n_epochs + 1):\n",
    "        if params.grad is not None:\n",
    "            params.grad.zero_()\n",
    "        t_p = model(t_u, *params)\n",
    "        loss = mse_loss(t_p, t_c)\n",
    "        loss.backward()\n",
    "        with torch.no_grad():\n",
    "            params -= learning_rate * params.grad\n",
    "            if epoch % 100 == 0 or epoch < 5:\n",
    "                print('Epoch %d, Loss %f' % (epoch, float(loss)))\n",
    "    return params\n",
    "\n",
    "\n",
    "training_loop(\n",
    "    200,\n",
    "    1e-2,\n",
    "    torch.tensor([1.0, 0.01], requires_grad=True),\n",
    "    tem_u_t,\n",
    "    tem_c_t\n",
    ")"
   ],
   "metadata": {
    "collapsed": false
   }
  },
  {
   "cell_type": "markdown",
   "source": [
    "Looks like the loss diverged! This is a typical problem in minimization problems. This is due to that the input data are not normalized relative and the learning rate is too high.\n",
    "\n",
    "Let's try to decrease the rate."
   ],
   "metadata": {
    "collapsed": false
   }
  },
  {
   "cell_type": "code",
   "execution_count": 43,
   "outputs": [
    {
     "name": "stdout",
     "output_type": "stream",
     "text": [
      "Epoch 1, Loss 1764.710815\n",
      "Epoch 2, Loss 1566.496948\n",
      "Epoch 3, Loss 1390.920410\n",
      "Epoch 4, Loss 1235.395630\n",
      "Epoch 100, Loss 29.145098\n",
      "Epoch 200, Loss 29.125328\n"
     ]
    },
    {
     "data": {
      "text/plain": "tensor([ 0.2321, -0.0096], requires_grad=True)"
     },
     "execution_count": 43,
     "metadata": {},
     "output_type": "execute_result"
    }
   ],
   "source": [
    "training_loop(\n",
    "    200,\n",
    "    1e-5,\n",
    "    torch.tensor([1.0, 0.01], requires_grad=True),\n",
    "    tem_u_t,\n",
    "    tem_c_t\n",
    ")"
   ],
   "metadata": {
    "collapsed": false
   }
  },
  {
   "cell_type": "markdown",
   "source": [
    "Great, that seems to have fixed the divergence.\n",
    "\n",
    "This sensitivity can actually be addressed with an optimizer built into PyTorch. We still have to zero-out the gradient so that PyTorch does not accumulate the gradient."
   ],
   "metadata": {
    "collapsed": false
   }
  },
  {
   "cell_type": "code",
   "execution_count": 48,
   "outputs": [],
   "source": [
    "def training_loop_opt(\n",
    "    n_epochs,\n",
    "    optimizer,\n",
    "    params,\n",
    "    t_u,\n",
    "    t_c\n",
    "):\n",
    "    \"\"\"Training loop for toy temperature data using an optimizer\n",
    "\n",
    "    Parameters\n",
    "    ----------\n",
    "    n_epochs : int\n",
    "        Number of iterations\n",
    "    optimizer : torch.optim.Optimizer\n",
    "        Optimizer class\n",
    "    params : torch.Tensor\n",
    "        Parameter tensor\n",
    "    t_u : torch.Tensor\n",
    "        Unknown temperature tensor\n",
    "    t_c : torch.Tensor\n",
    "        Target known temperature tensor\n",
    "\n",
    "    Returns\n",
    "    -------\n",
    "    torch.Tensor\n",
    "        Parameter tensor\n",
    "    \"\"\"\n",
    "    for epoch in range(1, n_epochs + 1):\n",
    "        t_p = model(t_u, *params)\n",
    "        loss = mse_loss(t_p, t_c)\n",
    "\n",
    "        optimizer.zero_grad()\n",
    "        loss.backward()\n",
    "        optimizer.step()\n",
    "\n",
    "        if epoch % 100 == 0 or epoch < 5:\n",
    "            print('Epoch %d, Loss %f' % (epoch, float(loss)))\n",
    "    return params"
   ],
   "metadata": {
    "collapsed": false
   }
  },
  {
   "cell_type": "markdown",
   "source": [
    "I have used \"Adam\" before and it is flexible in its learning rate."
   ],
   "metadata": {
    "collapsed": false
   }
  },
  {
   "cell_type": "code",
   "execution_count": 54,
   "outputs": [
    {
     "name": "stdout",
     "output_type": "stream",
     "text": [
      "Epoch 1, Loss 1764.710815\n",
      "Epoch 2, Loss 1335.069458\n",
      "Epoch 3, Loss 968.430908\n",
      "Epoch 4, Loss 665.266052\n",
      "Epoch 100, Loss 23.924583\n",
      "Epoch 200, Loss 19.103392\n",
      "Epoch 300, Loss 14.414613\n",
      "Epoch 400, Loss 10.519880\n",
      "Epoch 500, Loss 7.620895\n",
      "Epoch 600, Loss 5.646508\n",
      "Epoch 700, Loss 4.404398\n",
      "Epoch 800, Loss 3.679316\n",
      "Epoch 900, Loss 3.285805\n",
      "Epoch 1000, Loss 3.087155\n",
      "Epoch 1100, Loss 2.993918\n",
      "Epoch 1200, Loss 2.953274\n",
      "Epoch 1300, Loss 2.936847\n",
      "Epoch 1400, Loss 2.930705\n",
      "Epoch 1500, Loss 2.928584\n",
      "Epoch 1600, Loss 2.927911\n",
      "Epoch 1700, Loss 2.927715\n",
      "Epoch 1800, Loss 2.927660\n",
      "Epoch 1900, Loss 2.927649\n",
      "Epoch 2000, Loss 2.927647\n",
      "Epoch 2100, Loss 2.927646\n",
      "Epoch 2200, Loss 2.927644\n",
      "Epoch 2300, Loss 2.927647\n",
      "Epoch 2400, Loss 2.927646\n",
      "Epoch 2500, Loss 2.927645\n",
      "Epoch 2600, Loss 2.927646\n",
      "Epoch 2700, Loss 2.927646\n",
      "Epoch 2800, Loss 2.927645\n",
      "Epoch 2900, Loss 2.927645\n",
      "Epoch 3000, Loss 2.927646\n",
      "Epoch 3100, Loss 2.927645\n",
      "Epoch 3200, Loss 2.927646\n",
      "Epoch 3300, Loss 2.927645\n",
      "Epoch 3400, Loss 2.927645\n",
      "Epoch 3500, Loss 2.927647\n",
      "Epoch 3600, Loss 2.927645\n",
      "Epoch 3700, Loss 2.927645\n",
      "Epoch 3800, Loss 2.927645\n",
      "Epoch 3900, Loss 2.927645\n",
      "Epoch 4000, Loss 2.927645\n",
      "Epoch 4100, Loss 2.927646\n",
      "Epoch 4200, Loss 2.927646\n",
      "Epoch 4300, Loss 2.927646\n",
      "Epoch 4400, Loss 2.927646\n",
      "Epoch 4500, Loss 2.927646\n",
      "Epoch 4600, Loss 2.927646\n",
      "Epoch 4700, Loss 2.927646\n",
      "Epoch 4800, Loss 2.927645\n",
      "Epoch 4900, Loss 2.927645\n",
      "Epoch 5000, Loss 2.927645\n"
     ]
    }
   ],
   "source": [
    "params = torch.tensor([1.0, 0.01], requires_grad=True)\n",
    "optimizer = torch.optim.Adam([params], lr=1e-1)\n",
    "best_fit = training_loop_opt(\n",
    "    5000,\n",
    "    optimizer,\n",
    "    params,\n",
    "    tem_u_t,\n",
    "    tem_c_t\n",
    ")"
   ],
   "metadata": {
    "collapsed": false
   }
  },
  {
   "cell_type": "code",
   "execution_count": 63,
   "outputs": [
    {
     "data": {
      "text/plain": "tensor([  0.5368, -17.3048], requires_grad=True)"
     },
     "execution_count": 63,
     "metadata": {},
     "output_type": "execute_result"
    }
   ],
   "source": [
    "best_fit"
   ],
   "metadata": {
    "collapsed": false
   }
  },
  {
   "cell_type": "code",
   "execution_count": 65,
   "outputs": [
    {
     "data": {
      "text/plain": "<Figure size 640x480 with 1 Axes>",
      "image/png": "[encoded data removed]"
     },
     "metadata": {},
     "output_type": "display_data"
    }
   ],
   "source": [
    "fig_fit, ax_fit = plt.subplots()\n",
    "\n",
    "ax_fit.scatter(\n",
    "    tem_u_t.numpy(),\n",
    "    tem_c_t.numpy()\n",
    ")\n",
    "ax_fit.grid(True)\n",
    "ax_fit.set_ylabel(\"Temperature (C)\")\n",
    "ax_fit.set_xlabel(\"Temperature (Unknown)\")\n",
    "\n",
    "ax_fit.plot(\n",
    "    tem_u_t.numpy(),\n",
    "    model(tem_u_t, *best_fit).detach().numpy()\n",
    ")\n",
    "\n",
    "plt.show(fig_fit)"
   ],
   "metadata": {
    "collapsed": false
   }
  },
  {
   "cell_type": "markdown",
   "source": [
    "Now with tensors and autograd understood, we can start using neural networks!"
   ],
   "metadata": {
    "collapsed": false
   }
  },
  {
   "cell_type": "code",
   "execution_count": null,
   "outputs": [],
   "source": [],
   "metadata": {
    "collapsed": false
   }
  }
 ],
 "metadata": {
  "kernelspec": {
   "display_name": "Python 3",
   "language": "python",
   "name": "python3"
  },
  "language_info": {
   "codemirror_mode": {
    "name": "ipython",
    "version": 2
   },
   "file_extension": ".py",
   "mimetype": "text/x-python",
   "name": "python",
   "nbconvert_exporter": "python",
   "pygments_lexer": "ipython2",
   "version": "2.7.6"
  }
 },
 "nbformat": 4,
 "nbformat_minor": 0
}
